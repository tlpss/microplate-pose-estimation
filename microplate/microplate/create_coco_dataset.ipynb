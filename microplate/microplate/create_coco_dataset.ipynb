{
 "cells": [
  {
   "cell_type": "code",
   "execution_count": 76,
   "metadata": {},
   "outputs": [],
   "source": [
    "from microplate import PACKAGE_PATH\n",
    "import os \n",
    "from airo_dataset_tools.data_parsers.coco import CocoKeypointAnnotation, CocoKeypointsDataset,CocoKeypointCategory,CocoImage\n",
    "import cv2\n",
    "import numpy as np\n",
    "import json"
   ]
  },
  {
   "cell_type": "code",
   "execution_count": 77,
   "metadata": {},
   "outputs": [],
   "source": [
    "data_dir = PACKAGE_PATH.parents[1] / 'data'\n",
    "scenes = os.listdir(data_dir)\n",
    "images = []\n",
    "for scene in scenes:\n",
    "    scene_images = (os.listdir(data_dir / scene))\n",
    "    images.extend([scene + '/' + image for image in scene_images])\n",
    "images = [ image for image in images if image.endswith('.png') ]"
   ]
  },
  {
   "cell_type": "code",
   "execution_count": 78,
   "metadata": {},
   "outputs": [
    {
     "name": "stdout",
     "output_type": "stream",
     "text": [
      "found 175 images\n"
     ]
    }
   ],
   "source": [
    "print(f\"found {len(images)} images\")"
   ]
  },
  {
   "cell_type": "code",
   "execution_count": 79,
   "metadata": {},
   "outputs": [],
   "source": [
    "coco_category = CocoKeypointCategory(supercategory='microplate',id=1, name='microplate',keypoints=['topleft','topright','bottomleft'])\n",
    "coco_images = []\n",
    "coco_annotations = []\n",
    "for image_idx,image_path in enumerate(images):\n",
    "    image = cv2.imread(str(data_dir/image_path))\n",
    "    height, width = image.shape[:2]\n",
    "    image_id = int(image_idx)\n",
    "    coco_image = CocoImage( file_name=image_path, height=height, width=width, id=image_id)\n",
    "    coco_images.append(coco_image)\n",
    "    annotations_path = image_path.replace('.png','_keypoints.json')\n",
    "    annotations_path = data_dir/annotations_path\n",
    "    with open(annotations_path,\"r\") as f:\n",
    "        annotations = json.load(f)\n",
    "    # ! asume the order matches the category order and all are present in the dict.\n",
    "    keypoints = []\n",
    "    num_keypoints = 0\n",
    "    assert len(annotations) == 3, f\"Expected 3 keypoints, got {len(annotations)}, {image_path}\"\n",
    "    for category,keypoint in annotations.items():\n",
    "        keypoints.extend(keypoint)\n",
    "        if 0 <= keypoint[0] <= width and 0 <= keypoint[1] <= height:\n",
    "            visibility = 2\n",
    "            num_keypoints += 1\n",
    "        else:\n",
    "            visibility = 0\n",
    "        keypoints.extend([visibility])\n",
    "    coco_annotation = CocoKeypointAnnotation(id=image_id,image_id=image_id, category_id=1, keypoints=keypoints, num_keypoints=num_keypoints)\n",
    "    coco_annotations.append(coco_annotation)  \n"
   ]
  },
  {
   "cell_type": "code",
   "execution_count": 80,
   "metadata": {},
   "outputs": [
    {
     "data": {
      "text/plain": [
       "CocoImage(id=0, width=1280, height=720, file_name='2/20230803_183218.png', license=None, flicker_url=None, coco_url=None, date_captured=None)"
      ]
     },
     "execution_count": 80,
     "metadata": {},
     "output_type": "execute_result"
    }
   ],
   "source": [
    "coco_images[0]"
   ]
  },
  {
   "cell_type": "code",
   "execution_count": 81,
   "metadata": {},
   "outputs": [
    {
     "data": {
      "text/plain": [
       "CocoKeypointAnnotation(id=0, image_id=0, category_id=1, bbox=None, segmentation=None, area=None, iscrowd=None, keypoints=[623.0, 171.0, 2.0, 807.0, 391.0, 2.0, 453.0, 267.0, 2.0], num_keypoints=3)"
      ]
     },
     "execution_count": 81,
     "metadata": {},
     "output_type": "execute_result"
    }
   ],
   "source": [
    "coco_annotations[0]"
   ]
  },
  {
   "cell_type": "code",
   "execution_count": 82,
   "metadata": {},
   "outputs": [],
   "source": [
    "coco_dataset = CocoKeypointsDataset(images=coco_images, annotations=coco_annotations, categories=[coco_category])"
   ]
  },
  {
   "cell_type": "code",
   "execution_count": 87,
   "metadata": {},
   "outputs": [],
   "source": [
    "with open(data_dir / 'annotations.json',\"w\") as f:\n",
    "    json.dump(coco_dataset.dict(), f)"
   ]
  },
  {
   "cell_type": "code",
   "execution_count": null,
   "metadata": {},
   "outputs": [],
   "source": []
  }
 ],
 "metadata": {
  "kernelspec": {
   "display_name": "microplate",
   "language": "python",
   "name": "python3"
  },
  "language_info": {
   "codemirror_mode": {
    "name": "ipython",
    "version": 3
   },
   "file_extension": ".py",
   "mimetype": "text/x-python",
   "name": "python",
   "nbconvert_exporter": "python",
   "pygments_lexer": "ipython3",
   "version": "3.10.12"
  },
  "orig_nbformat": 4
 },
 "nbformat": 4,
 "nbformat_minor": 2
}

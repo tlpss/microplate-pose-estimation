{
 "cells": [
  {
   "cell_type": "code",
   "execution_count": 2,
   "metadata": {},
   "outputs": [],
   "source": [
    "import pathlib\n",
    "import os\n",
    "import cv2\n",
    "from airo_camera_toolkit.utils import ImageConverter\n",
    "from microplate.opencv_annotation import get_manual_annotations_image , Annotation\n",
    "import numpy as np\n",
    "from microplate import PACKAGE_PATH\n",
    "from microplate.camera_pose import get_camera_pose, pose_model_to_homogeneous_matrix"
   ]
  },
  {
   "cell_type": "code",
   "execution_count": 3,
   "metadata": {},
   "outputs": [
    {
     "name": "stderr",
     "output_type": "stream",
     "text": [
      "qt.qpa.xcb: QXcbConnection: XCB error: 148 (Unknown), sequence: 219, resource id: 0, major code: 140 (Unknown), minor code: 20\n"
     ]
    }
   ],
   "source": [
    "\n",
    "images_to_label_indices = [0,10,20,-1]\n",
    "keypoint_names = [\"topleft\"]#,\"topright\",\"bottomleft\"]\n",
    "annotation_config = {keypoint: Annotation.Keypoint for keypoint in keypoint_names}\n",
    "\n",
    "directory = PACKAGE_PATH.parents[1] / \"scene_images\"\n",
    "images = os.listdir(directory)\n",
    "images = [image for image in images if image.endswith(\".png\")]\n",
    "images = sorted(images)\n",
    "keypoint_dict = {image: {} for image in images}\n",
    "manually_labeled_keypoints = {images[id]: {} for id in images_to_label_indices}\n",
    "for image_path, _ in manually_labeled_keypoints.items():\n",
    "    image = cv2.imread(str(directory / image_path))\n",
    "    image = ImageConverter.from_opencv_format(image).image_in_numpy_format\n",
    "    annotation = get_manual_annotations_image(image, annotation_config)\n",
    "    annotation = {key: np.array(value) for key, value in annotation.items()}\n",
    "    manually_labeled_keypoints[image_path] = annotation\n"
   ]
  },
  {
   "cell_type": "code",
   "execution_count": 4,
   "metadata": {},
   "outputs": [
    {
     "data": {
      "text/plain": [
       "['topleft']"
      ]
     },
     "execution_count": 4,
     "metadata": {},
     "output_type": "execute_result"
    }
   ],
   "source": [
    "\n",
    "keypoint_names"
   ]
  },
  {
   "cell_type": "code",
   "execution_count": null,
   "metadata": {},
   "outputs": [],
   "source": [
    "import json\n",
    "from airo_dataset_tools.data_parsers.pose import Pose\n",
    "from microplate.multi_view_triangulation import multiview_triangulation_midpoint\n",
    "\n",
    "for keypoint in keypoint_names:\n",
    "    print(keypoint)\n",
    "    labeled_extrinsics = []\n",
    "    labeled_intrinsics = []\n",
    "    labeled_image_points = []\n",
    "    for image_path, image_points in manually_labeled_keypoints.items():\n",
    "        extrinsics_path = image_path.replace(\".png\",\"_camera_pose.json\")\n",
    "        extrinsics = Pose(**json.load(open(directory/extrinsics_path)))\n",
    "        extrinsics = pose_model_to_homogeneous_matrix(extrinsics)\n",
    "        intrinsics_path = image_path.replace(\".png\",\"_camera_intrinsics.npy\")\n",
    "        camera_intrinsics = np.load(str(directory/intrinsics_path))\n",
    "        image_point = np.array(image_points[keypoint])\n",
    "        labeled_extrinsics.append(extrinsics)\n",
    "        labeled_intrinsics.append(camera_intrinsics)\n",
    "        labeled_image_points.append(image_point)\n",
    "\n",
    "    # triangulate the points\n",
    "    print(labeled_image_points)\n",
    "    keypoint_position = multiview_triangulation_midpoint(labeled_extrinsics,labeled_intrinsics,labeled_image_points)\n",
    "    print(f\"{keypoint} position: {keypoint_position}\")\n",
    "\n",
    "    for image_path in keypoint_dict.keys():\n",
    "        extrinsics_path = image_path.replace(\".png\",\"_camera_pose.json\")\n",
    "        extrinsics = Pose(**json.load(open(directory/extrinsics_path)))\n",
    "        extrinsics = pose_model_to_homogeneous_matrix(extrinsics)\n",
    "        intrinsics_path = image_path.replace(\".png\",\"_camera_intrinsics.npy\")\n",
    "        camera_intrinsics = np.load(str(directory/intrinsics_path))\n",
    "        image_point = camera_intrinsics @ (np.linalg.inv(extrinsics) @ np.append(keypoint_position,1))[:3]\n",
    "        image_point = image_point[:2] / image_point[2]\n",
    "        keypoint_dict[image_path][keypoint] = image_point\n",
    "        image = cv2.imread(str(directory/image_path))\n",
    "        cv2.circle(image,(int(image_point[0]),int(image_point[1])),5,(0,0,255),-1)\n",
    "        cv2.imshow(\"image\",image)\n",
    "        cv2.waitKey(0)\n",
    "\n",
    "json.dump(keypoint_dict,open(directory/\"keypoints.json\",\"w\"),indent=4)"
   ]
  },
  {
   "cell_type": "code",
   "execution_count": null,
   "metadata": {},
   "outputs": [],
   "source": []
  },
  {
   "cell_type": "code",
   "execution_count": 6,
   "metadata": {},
   "outputs": [
    {
     "data": {
      "text/plain": [
       "{'20230803_165759.png': {'topleft': array([799.19566852, 491.03004186])},\n",
       " '20230803_165802.png': {'topleft': array([725.03412684, 535.84790661])},\n",
       " '20230803_165804.png': {'topleft': array([841.63872907, 507.63955699])},\n",
       " '20230803_165808.png': {'topleft': array([722.54288233, 592.97837736])},\n",
       " '20230803_165813.png': {'topleft': array([902.06190256, 452.04679299])},\n",
       " '20230803_165818.png': {'topleft': array([685.72430634, 644.59945159])},\n",
       " '20230803_165829.png': {'topleft': array([853.80485223, 196.1732616 ])},\n",
       " '20230803_165840.png': {'topleft': array([372.86653206, 260.64509735])},\n",
       " '20230803_165847.png': {'topleft': array([682.28450146, 123.24649365])},\n",
       " '20230803_165852.png': {'topleft': array([499.92710369, 146.39781549])},\n",
       " '20230803_165855.png': {'topleft': array([625.66721607, 157.65268251])},\n",
       " '20230803_165858.png': {'topleft': array([532.11426546, 172.098753  ])},\n",
       " '20230803_165900.png': {'topleft': array([607.87248831, 197.01934148])},\n",
       " '20230803_165902.png': {'topleft': array([551.08908731, 205.60148876])},\n",
       " '20230803_165919.png': {'topleft': array([770.57544352, 483.63850766])},\n",
       " '20230803_165921.png': {'topleft': array([708.67073819, 520.76184712])},\n",
       " '20230803_165924.png': {'topleft': array([800.64387388, 489.69179326])},\n",
       " '20230803_165927.png': {'topleft': array([704.34722846, 556.16970699])},\n",
       " '20230803_165932.png': {'topleft': array([846.86458332, 439.37235191])},\n",
       " '20230803_165938.png': {'topleft': array([674.97699431, 587.39499541])},\n",
       " '20230803_165949.png': {'topleft': array([811.56029476, 231.76014153])},\n",
       " '20230803_170000.png': {'topleft': array([428.50955342, 284.66581262])},\n",
       " '20230803_170007.png': {'topleft': array([674.83767438, 164.15018465])},\n",
       " '20230803_170011.png': {'topleft': array([524.56770312, 187.02029556])},\n",
       " '20230803_170015.png': {'topleft': array([627.31849722, 182.82772527])},\n",
       " '20230803_170017.png': {'topleft': array([547.29275033, 198.1699117 ])},\n",
       " '20230803_170020.png': {'topleft': array([611.10845418, 209.25943228])},\n",
       " '20230803_170021.png': {'topleft': array([560.89419651, 218.88976494])},\n",
       " '20230803_170038.png': {'topleft': array([749.93574518, 474.21311294])},\n",
       " '20230803_170040.png': {'topleft': array([773.0578081 , 474.79201953])},\n",
       " '20230803_170042.png': {'topleft': array([810.60054623, 429.83518312])},\n",
       " '20230803_170048.png': {'topleft': array([782.75654554, 255.75171271])},\n",
       " '20230803_170052.png': {'topleft': array([669.32464626, 195.06474338])},\n",
       " '20230803_170054.png': {'topleft': array([628.66251195, 205.38561106])},\n",
       " '20230803_170055.png': {'topleft': array([613.97478891, 223.28225851])}}"
      ]
     },
     "execution_count": 6,
     "metadata": {},
     "output_type": "execute_result"
    },
    {
     "ename": "",
     "evalue": "",
     "output_type": "error",
     "traceback": [
      "\u001b[1;31mThe Kernel crashed while executing code in the the current cell or a previous cell. Please review the code in the cell(s) to identify a possible cause of the failure. Click <a href='https://aka.ms/vscodeJupyterKernelCrash'>here</a> for more info. View Jupyter <a href='command:jupyter.viewOutput'>log</a> for further details."
     ]
    }
   ],
   "source": [
    "keypoint_dict"
   ]
  },
  {
   "cell_type": "code",
   "execution_count": null,
   "metadata": {},
   "outputs": [],
   "source": []
  }
 ],
 "metadata": {
  "kernelspec": {
   "display_name": "microplate",
   "language": "python",
   "name": "python3"
  },
  "language_info": {
   "codemirror_mode": {
    "name": "ipython",
    "version": 3
   },
   "file_extension": ".py",
   "mimetype": "text/x-python",
   "name": "python",
   "nbconvert_exporter": "python",
   "pygments_lexer": "ipython3",
   "version": "3.10.12"
  },
  "orig_nbformat": 4
 },
 "nbformat": 4,
 "nbformat_minor": 2
}
